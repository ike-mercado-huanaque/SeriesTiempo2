{
  "nbformat": 4,
  "nbformat_minor": 0,
  "metadata": {
    "colab": {
      "provenance": []
    },
    "kernelspec": {
      "name": "python3",
      "display_name": "Python 3"
    }
  },
  "cells": [
    {
      "cell_type": "code",
      "metadata": {
        "id": "6g67tsatJ7kJ"
      },
      "source": [
        "import numpy as np\n",
        "import sympy as sp\n",
        "\n"
      ],
      "execution_count": null,
      "outputs": []
    },
    {
      "cell_type": "markdown",
      "metadata": {
        "id": "didNp6ZoCOXr"
      },
      "source": [
        "Pregunta 2\n",
        "\n",
        "a)"
      ]
    },
    {
      "cell_type": "code",
      "metadata": {
        "id": "JzY-wtrCulOH"
      },
      "source": [
        "I = np.eye(6)\n",
        "A1 = np.array([[0.7,0.1,0],[0,0.4,0.1],[0.9,0,0.8]]);\n",
        "A2 = np.array([[-0.2,0,0],[0,0.1,0.1],[0,0,0]])\n",
        "A = np.block([[A1,A2],[np.eye(3),np.zeros((3,3))]])\n",
        "v = np.array([[2],[1],[0]])\n",
        "V = np.block([[v],[np.zeros((3,1))]])\n",
        "B = np.array([[10,2,0,2,0.2,0.2],[0,2,0,0,0.2,0.2],\n",
        "[45,9,5,9,0.9,0.9],\n",
        "[10,2,0,3,0.2,0.2],\n",
        "[0,2,0,0,1.2,0.2],\n",
        "[45,9,5,9,0.9,1.9]])\n"
      ],
      "execution_count": null,
      "outputs": []
    },
    {
      "cell_type": "code",
      "metadata": {
        "id": "0A_jsnXkdWOe",
        "outputId": "94d750f0-7514-42df-bea0-66417a18edaf",
        "colab": {
          "base_uri": "https://localhost:8080/"
        }
      },
      "source": [
        "(I-A)"
      ],
      "execution_count": null,
      "outputs": [
        {
          "output_type": "execute_result",
          "data": {
            "text/plain": [
              "array([[ 0.3, -0.1,  0. ,  0.2,  0. ,  0. ],\n",
              "       [ 0. ,  0.6, -0.1,  0. , -0.1, -0.1],\n",
              "       [-0.9,  0. ,  0.2,  0. ,  0. ,  0. ],\n",
              "       [-1. ,  0. ,  0. ,  1. ,  0. ,  0. ],\n",
              "       [ 0. , -1. ,  0. ,  0. ,  1. ,  0. ],\n",
              "       [ 0. ,  0. , -1. ,  0. ,  0. ,  1. ]])"
            ]
          },
          "metadata": {
            "tags": []
          },
          "execution_count": 22
        }
      ]
    },
    {
      "cell_type": "code",
      "metadata": {
        "id": "0OM9hy0rdn80"
      },
      "source": [
        "A_3 = np.array([[0.4,0.2,0],[0,0.1,0.3],[0,0.1,0.3]])\n",
        "phi = np.array([[2],[1],[0]])"
      ],
      "execution_count": null,
      "outputs": []
    },
    {
      "cell_type": "code",
      "metadata": {
        "id": "4mIH5AODddRK",
        "outputId": "14626cff-6f02-4162-bf47-9988bba49622",
        "colab": {
          "base_uri": "https://localhost:8080/"
        }
      },
      "source": [
        "np.eye(3)-A_3"
      ],
      "execution_count": null,
      "outputs": [
        {
          "output_type": "execute_result",
          "data": {
            "text/plain": [
              "array([[ 0.6, -0.2,  0. ],\n",
              "       [ 0. ,  0.9, -0.3],\n",
              "       [ 0. , -0.1,  0.7]])"
            ]
          },
          "metadata": {
            "tags": []
          },
          "execution_count": 60
        }
      ]
    },
    {
      "cell_type": "code",
      "metadata": {
        "id": "oDn--uluvKNz"
      },
      "source": [],
      "execution_count": null,
      "outputs": []
    },
    {
      "cell_type": "code",
      "metadata": {
        "id": "GRaFA6RKu6tk"
      },
      "source": [],
      "execution_count": null,
      "outputs": []
    },
    {
      "cell_type": "code",
      "metadata": {
        "id": "wNHaMRiMu6xO"
      },
      "source": [],
      "execution_count": null,
      "outputs": []
    },
    {
      "cell_type": "code",
      "metadata": {
        "id": "yLTey3jDQxSD",
        "outputId": "7050093e-cfe6-48fb-ca3b-563d18f94d33",
        "colab": {
          "base_uri": "https://localhost:8080/"
        }
      },
      "source": [
        "print(\"Matriz A:\")\n",
        "print(A)"
      ],
      "execution_count": null,
      "outputs": [
        {
          "output_type": "stream",
          "text": [
            "Matriz A:\n",
            "[[ 0.7  0.1  0.  -0.2  0.   0. ]\n",
            " [ 0.   0.4  0.1  0.   0.1  0.1]\n",
            " [ 0.9  0.   0.8  0.   0.   0. ]\n",
            " [ 1.   0.   0.   0.   0.   0. ]\n",
            " [ 0.   1.   0.   0.   0.   0. ]\n",
            " [ 0.   0.   1.   0.   0.   0. ]]\n"
          ],
          "name": "stdout"
        }
      ]
    },
    {
      "cell_type": "code",
      "metadata": {
        "id": "LWaPmFGgQ71d",
        "outputId": "85020a55-8e10-455c-92a7-3253f97d69b3",
        "colab": {
          "base_uri": "https://localhost:8080/"
        }
      },
      "source": [
        "print(\"Vector psi:\")\n",
        "print(V)"
      ],
      "execution_count": null,
      "outputs": [
        {
          "output_type": "stream",
          "text": [
            "Vector psi:\n",
            "[[2.]\n",
            " [1.]\n",
            " [0.]\n",
            " [0.]\n",
            " [0.]\n",
            " [0.]]\n"
          ],
          "name": "stdout"
        }
      ]
    },
    {
      "cell_type": "code",
      "metadata": {
        "id": "yv3trscHRBYB"
      },
      "source": [],
      "execution_count": null,
      "outputs": []
    },
    {
      "cell_type": "markdown",
      "metadata": {
        "id": "kmo61W-dRS2Q"
      },
      "source": []
    },
    {
      "cell_type": "markdown",
      "metadata": {
        "id": "KBK5VTdURS5-"
      },
      "source": [
        "Luego haciendo:\n",
        "\\begin{align*}\n",
        "det(I_6-zA) &= \\frac{z^6}{z^6}det(I_6-zA)\\\\\n",
        "&= z^6det(\\frac{1}{z}I_6-A)\\\\\n",
        "&= z^6 det(A-\\lambda I_6)(-1)^6 \\quad \\lambda = 1/z\\\\\n",
        "&= z^6 polcar(A)\\\\\n",
        "\\end{align*}"
      ]
    },
    {
      "cell_type": "code",
      "metadata": {
        "id": "8n2ZSZfLul31",
        "outputId": "f93e3f09-e19f-44a0-db01-a71b193e5717",
        "colab": {
          "base_uri": "https://localhost:8080/"
        }
      },
      "source": [
        "c = np.round((np.poly(A_3)),decimals = 3);\n",
        "coeff = np.zeros(6);\n",
        "np.roots([0.16,-0.8,1])\n"
      ],
      "execution_count": null,
      "outputs": [
        {
          "output_type": "execute_result",
          "data": {
            "text/plain": [
              "array([2.5, 2.5])"
            ]
          },
          "metadata": {
            "tags": []
          },
          "execution_count": 54
        }
      ]
    },
    {
      "cell_type": "code",
      "metadata": {
        "id": "sC7mZiVG4nNx",
        "outputId": "435e07b9-9a4c-4877-ea33-8d9ae42a9938",
        "colab": {
          "base_uri": "https://localhost:8080/"
        }
      },
      "source": [
        "for i in range(3):\n",
        "  coeff[i] = c[2-i]\n",
        "np.roots(coeff)"
      ],
      "execution_count": null,
      "outputs": [
        {
          "output_type": "execute_result",
          "data": {
            "text/plain": [
              "array([2.5, 2.5])"
            ]
          },
          "metadata": {
            "tags": []
          },
          "execution_count": 50
        }
      ]
    },
    {
      "cell_type": "markdown",
      "metadata": {
        "id": "VSAyeOWzMSCp"
      },
      "source": [
        "b)"
      ]
    },
    {
      "cell_type": "code",
      "metadata": {
        "id": "PfbsBvXKcKo8",
        "outputId": "b99e190b-0620-423c-cc1a-c543c8a98606",
        "colab": {
          "base_uri": "https://localhost:8080/"
        }
      },
      "source": [
        "A"
      ],
      "execution_count": null,
      "outputs": [
        {
          "output_type": "execute_result",
          "data": {
            "text/plain": [
              "array([[ 0.7,  0.1,  0. , -0.2,  0. ,  0. ],\n",
              "       [ 0. ,  0.4,  0.1,  0. ,  0.1,  0.1],\n",
              "       [ 0.9,  0. ,  0.8,  0. ,  0. ,  0. ],\n",
              "       [ 1. ,  0. ,  0. ,  0. ,  0. ,  0. ],\n",
              "       [ 0. ,  1. ,  0. ,  0. ,  0. ,  0. ],\n",
              "       [ 0. ,  0. ,  1. ,  0. ,  0. ,  0. ]])"
            ]
          },
          "metadata": {
            "tags": []
          },
          "execution_count": 28
        }
      ]
    },
    {
      "cell_type": "code",
      "metadata": {
        "id": "DNEt8IsEMQdX",
        "outputId": "92557318-a934-45c8-b67e-23e42f05daff",
        "colab": {
          "base_uri": "https://localhost:8080/"
        }
      },
      "source": [
        "I-A\n"
      ],
      "execution_count": null,
      "outputs": [
        {
          "output_type": "execute_result",
          "data": {
            "text/plain": [
              "array([[ 0.3, -0.1,  0. ,  0.2,  0. ,  0. ],\n",
              "       [ 0. ,  0.6, -0.1,  0. , -0.1, -0.1],\n",
              "       [-0.9,  0. ,  0.2,  0. ,  0. ,  0. ],\n",
              "       [-1. ,  0. ,  0. ,  1. ,  0. ,  0. ],\n",
              "       [ 0. , -1. ,  0. ,  0. ,  1. ,  0. ],\n",
              "       [ 0. ,  0. , -1. ,  0. ,  0. ,  1. ]])"
            ]
          },
          "metadata": {
            "tags": []
          },
          "execution_count": 29
        }
      ]
    },
    {
      "cell_type": "code",
      "metadata": {
        "id": "rgegy1WQMqzZ",
        "outputId": "1b6402bb-edbe-49cb-dcd7-a7bdd0b548d2",
        "colab": {
          "base_uri": "https://localhost:8080/"
        }
      },
      "source": [
        "np.linalg.inv(I-A)"
      ],
      "execution_count": null,
      "outputs": [
        {
          "output_type": "execute_result",
          "data": {
            "text/plain": [
              "array([[ 3.125  ,  0.625  ,  0.625  , -0.625  ,  0.0625 ,  0.0625 ],\n",
              "       [ 5.625  ,  3.125  ,  3.125  , -1.125  ,  0.3125 ,  0.3125 ],\n",
              "       [14.0625 ,  2.8125 ,  7.8125 , -2.8125 ,  0.28125,  0.28125],\n",
              "       [ 3.125  ,  0.625  ,  0.625  ,  0.375  ,  0.0625 ,  0.0625 ],\n",
              "       [ 5.625  ,  3.125  ,  3.125  , -1.125  ,  1.3125 ,  0.3125 ],\n",
              "       [14.0625 ,  2.8125 ,  7.8125 , -2.8125 ,  0.28125,  1.28125]])"
            ]
          },
          "metadata": {
            "tags": []
          },
          "execution_count": 30
        }
      ]
    },
    {
      "cell_type": "code",
      "metadata": {
        "id": "HUBlaGICMn4e",
        "outputId": "7f063477-bbe7-40e9-df8e-e31c7bf620f2",
        "colab": {
          "base_uri": "https://localhost:8080/"
        }
      },
      "source": [
        "Mu = np.dot(np.linalg.inv(I-A),V)\n",
        "J = np.block([np.eye(3),np.zeros((3,3))])\n",
        "media = np.dot(J,Mu)\n",
        "print(\"Vector de medias  \\n {0}\".format(media))"
      ],
      "execution_count": null,
      "outputs": [
        {
          "output_type": "stream",
          "text": [
            "Vector de medias  \n",
            " [[ 6.875 ]\n",
            " [14.375 ]\n",
            " [30.9375]]\n"
          ],
          "name": "stdout"
        }
      ]
    },
    {
      "cell_type": "code",
      "metadata": {
        "id": "F1rIIfE4bfAf",
        "outputId": "5524aae1-8568-4979-ff56-ee40fb659b0d",
        "colab": {
          "base_uri": "https://localhost:8080/"
        }
      },
      "source": [
        "Mu"
      ],
      "execution_count": null,
      "outputs": [
        {
          "output_type": "execute_result",
          "data": {
            "text/plain": [
              "array([[ 6.875 ],\n",
              "       [14.375 ],\n",
              "       [30.9375],\n",
              "       [ 6.875 ],\n",
              "       [14.375 ],\n",
              "       [30.9375]])"
            ]
          },
          "metadata": {
            "tags": []
          },
          "execution_count": 32
        }
      ]
    },
    {
      "cell_type": "markdown",
      "metadata": {
        "id": "qw0aX1XEf4hi"
      },
      "source": [
        "c) Hecha en el informe\n",
        "\n",
        "d) "
      ]
    },
    {
      "cell_type": "code",
      "metadata": {
        "id": "vrJsoBicg3MR",
        "outputId": "de3bf07d-3444-4bb5-822b-ff174ba74534",
        "colab": {
          "base_uri": "https://localhost:8080/"
        }
      },
      "source": [
        "A.shape"
      ],
      "execution_count": null,
      "outputs": [
        {
          "output_type": "execute_result",
          "data": {
            "text/plain": [
              "(6, 6)"
            ]
          },
          "metadata": {
            "tags": []
          },
          "execution_count": 33
        }
      ]
    },
    {
      "cell_type": "code",
      "metadata": {
        "id": "M-Ay78Ysf5bi"
      },
      "source": [
        "#Calcula la potencia de una matriz\n",
        "def powerarray(array,n):\n",
        "  (a,b) = array.shape\n",
        "  if a != b:\n",
        "    print(\"Array is not square\")\n",
        "    return None\n",
        "  else:\n",
        "    if n==0:\n",
        "      return np.eye(a)\n",
        "    elif n==1:\n",
        "      return array\n",
        "    else:\n",
        "      var = np.dot(array,powerarray(array,n-1))\n",
        "      return var"
      ],
      "execution_count": null,
      "outputs": []
    },
    {
      "cell_type": "code",
      "metadata": {
        "id": "2UXQ_7HJuyvK",
        "outputId": "cff89b92-faef-4d6f-fe5c-f23a5e18fa6f",
        "colab": {
          "base_uri": "https://localhost:8080/"
        }
      },
      "source": [
        "J"
      ],
      "execution_count": null,
      "outputs": [
        {
          "output_type": "execute_result",
          "data": {
            "text/plain": [
              "array([[1., 0., 0., 0., 0., 0.],\n",
              "       [0., 1., 0., 0., 0., 0.],\n",
              "       [0., 0., 1., 0., 0., 0.]])"
            ]
          },
          "metadata": {
            "tags": []
          },
          "execution_count": 35
        }
      ]
    },
    {
      "cell_type": "code",
      "metadata": {
        "id": "mehcv0hquzfT",
        "outputId": "aba001b9-a55d-4003-fe03-06f7dd73f7e8",
        "colab": {
          "base_uri": "https://localhost:8080/"
        }
      },
      "source": [
        "np.transpose(J)"
      ],
      "execution_count": null,
      "outputs": [
        {
          "output_type": "execute_result",
          "data": {
            "text/plain": [
              "array([[1., 0., 0.],\n",
              "       [0., 1., 0.],\n",
              "       [0., 0., 1.],\n",
              "       [0., 0., 0.],\n",
              "       [0., 0., 0.],\n",
              "       [0., 0., 0.]])"
            ]
          },
          "metadata": {
            "tags": []
          },
          "execution_count": 36
        }
      ]
    },
    {
      "cell_type": "code",
      "metadata": {
        "id": "zvrZ9lqagmTC",
        "outputId": "30101ee8-aec2-4178-ab16-ed9cbeee5f22",
        "colab": {
          "base_uri": "https://localhost:8080/"
        }
      },
      "source": [
        "phi_1 = np.dot(np.dot(J,powerarray(A,1)),np.transpose(J));\n",
        "phi_2 = np.dot(np.dot(J,powerarray(A,2)),np.transpose(J));\n",
        "phi_3 = np.dot(np.dot(J,powerarray(A,3)),np.transpose(J));\n",
        "phi_4 = np.dot(np.dot(J,powerarray(A,4)),np.transpose(J));\n",
        "phi_5 = np.dot(np.dot(J,powerarray(A,5)),np.transpose(J));\n",
        "print(\"Matriz phi_1 =\\n {0}\\n\".format(phi_1))\n",
        "print(\"Matriz phi_2 =\\n {0}\\n\".format(phi_2))\n",
        "print(\"Matriz phi_3 =\\n {0}\\n\".format(phi_3))\n",
        "print(\"Matriz phi_4 =\\n {0}\\n\".format(phi_4))\n",
        "print(\"Matriz phi_5 =\\n {0}\\n\".format(phi_5))"
      ],
      "execution_count": null,
      "outputs": [
        {
          "output_type": "stream",
          "text": [
            "Matriz phi_1 =\n",
            " [[0.7 0.1 0. ]\n",
            " [0.  0.4 0.1]\n",
            " [0.9 0.  0.8]]\n",
            "\n",
            "Matriz phi_2 =\n",
            " [[0.29 0.11 0.01]\n",
            " [0.09 0.26 0.22]\n",
            " [1.35 0.09 0.64]]\n",
            "\n",
            "Matriz phi_3 =\n",
            " [[0.072 0.083 0.029]\n",
            " [0.261 0.153 0.242]\n",
            " [1.341 0.171 0.521]]\n",
            "\n",
            "Matriz phi_4 =\n",
            " [[0.0185 0.0514 0.0425]\n",
            " [0.3825 0.1133 0.2349]\n",
            " [1.1376 0.2115 0.4429]]\n",
            "\n",
            "Matriz phi_5 =\n",
            " [[0.0368  0.03071 0.04744]\n",
            " [0.42696 0.09887 0.21455]\n",
            " [0.92673 0.21546 0.39257]]\n",
            "\n"
          ],
          "name": "stdout"
        }
      ]
    },
    {
      "cell_type": "code",
      "metadata": {
        "id": "thR0MYumb79N",
        "outputId": "660b0d24-43fc-45b5-ea12-49508d5ca44e",
        "colab": {
          "base_uri": "https://localhost:8080/"
        }
      },
      "source": [
        "np.dot(np.dot(J,A),np.transpose(J))"
      ],
      "execution_count": null,
      "outputs": [
        {
          "output_type": "execute_result",
          "data": {
            "text/plain": [
              "array([[0.7, 0.1, 0. ],\n",
              "       [0. , 0.4, 0.1],\n",
              "       [0.9, 0. , 0.8]])"
            ]
          },
          "metadata": {
            "tags": []
          },
          "execution_count": 38
        }
      ]
    }
  ]
}
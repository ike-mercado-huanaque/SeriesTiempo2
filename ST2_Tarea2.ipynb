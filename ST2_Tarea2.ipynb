{
  "nbformat": 4,
  "nbformat_minor": 0,
  "metadata": {
    "colab": {
      "provenance": []
    },
    "kernelspec": {
      "name": "python3",
      "display_name": "Python 3"
    }
  },
  "cells": [
    {
      "cell_type": "code",
      "metadata": {
        "id": "nsjmk6Ji1NtI"
      },
      "source": [
        "import numpy as np\n",
        "import sympy as sp\n",
        "import scipy.stats"
      ],
      "execution_count": 52,
      "outputs": []
    },
    {
      "cell_type": "code",
      "metadata": {
        "id": "cGIaMtKJFXw0"
      },
      "source": [
        "I = np.eye(6)\n",
        "A1 = np.array([[0.7,0.1,0],[0,0.4,0.1],[0.9,0,0.8]]);\n",
        "A2 = np.array([[-0.2,0,0],[0,0.1,0.1],[0,0,0]])\n",
        "A = np.block([[A1,A2],[np.eye(3),np.zeros((3,3))]])\n",
        "v = np.array([[2],[1],[0]])\n",
        "V = np.block([[v],[np.zeros((3,1))]])\n",
        "B = np.array([[10,2,0,2,0.2,0.2],[0,2,0,0,0.2,0.2],\n",
        "[45,9,5,9,0.9,0.9],\n",
        "[10,2,0,3,0.2,0.2],\n",
        "[0,2,0,0,1.2,0.2],\n",
        "[45,9,5,9,0.9,1.9]])\n",
        "Sigmau = np.array([[0.26,0.03,0],[0.03,0.09,0],[0,0,0.81]])\n",
        "P = np.array([[0.5,0.1,0],[0,0.3,0],[0,0,0.9]])"
      ],
      "execution_count": 53,
      "outputs": []
    },
    {
      "cell_type": "markdown",
      "metadata": {
        "id": "mT3ACDTndVe2"
      },
      "source": [
        "Pregunta 1\n"
      ]
    },
    {
      "cell_type": "code",
      "metadata": {
        "id": "r3ByaeoqF_vh",
        "outputId": "0b7ea616-a9c2-4ca7-b604-553ae070aa51",
        "colab": {
          "base_uri": "https://localhost:8080/"
        }
      },
      "source": [
        "SigmaU = np.block([[Sigmau,np.zeros((3,3))],[np.zeros((3,3)),np.zeros((3,3))]])\n",
        "#SigmaU = np.array([[0.26,0.03,0],[0.03,0.09,0],[0,0,0.81]])\n",
        "SigmaU"
      ],
      "execution_count": 54,
      "outputs": [
        {
          "output_type": "execute_result",
          "data": {
            "text/plain": [
              "array([[0.26, 0.03, 0.  , 0.  , 0.  , 0.  ],\n",
              "       [0.03, 0.09, 0.  , 0.  , 0.  , 0.  ],\n",
              "       [0.  , 0.  , 0.81, 0.  , 0.  , 0.  ],\n",
              "       [0.  , 0.  , 0.  , 0.  , 0.  , 0.  ],\n",
              "       [0.  , 0.  , 0.  , 0.  , 0.  , 0.  ],\n",
              "       [0.  , 0.  , 0.  , 0.  , 0.  , 0.  ]])"
            ]
          },
          "metadata": {},
          "execution_count": 54
        }
      ]
    },
    {
      "cell_type": "code",
      "metadata": {
        "id": "g8PUAdzBGG63",
        "outputId": "4b8e0e34-fd19-4713-b5a4-c3b0b6c4635f",
        "colab": {
          "base_uri": "https://localhost:8080/"
        }
      },
      "source": [
        "np.dot(P,np.transpose(P))"
      ],
      "execution_count": 55,
      "outputs": [
        {
          "output_type": "execute_result",
          "data": {
            "text/plain": [
              "array([[0.26, 0.03, 0.  ],\n",
              "       [0.03, 0.09, 0.  ],\n",
              "       [0.  , 0.  , 0.81]])"
            ]
          },
          "metadata": {},
          "execution_count": 55
        }
      ]
    },
    {
      "cell_type": "code",
      "metadata": {
        "id": "6xxIqyJF2Wtu",
        "outputId": "894e0708-0f2c-4f3e-895f-6f5092b1afdf",
        "colab": {
          "base_uri": "https://localhost:8080/"
        }
      },
      "source": [
        "A3 = np.array([[0.4,0.2,0],[0,0.1,0.3],[0,0.1,0.3]])\n",
        "B= np.eye(9)-np.kron(A3,A3)\n",
        "B"
      ],
      "execution_count": 56,
      "outputs": [
        {
          "output_type": "execute_result",
          "data": {
            "text/plain": [
              "array([[ 0.84, -0.08,  0.  , -0.08, -0.04,  0.  ,  0.  ,  0.  ,  0.  ],\n",
              "       [ 0.  ,  0.96, -0.12,  0.  , -0.02, -0.06,  0.  ,  0.  ,  0.  ],\n",
              "       [ 0.  , -0.04,  0.88,  0.  , -0.02, -0.06,  0.  ,  0.  ,  0.  ],\n",
              "       [ 0.  ,  0.  ,  0.  ,  0.96, -0.02,  0.  , -0.12, -0.06,  0.  ],\n",
              "       [ 0.  ,  0.  ,  0.  ,  0.  ,  0.99, -0.03,  0.  , -0.03, -0.09],\n",
              "       [ 0.  ,  0.  ,  0.  ,  0.  , -0.01,  0.97,  0.  , -0.03, -0.09],\n",
              "       [ 0.  ,  0.  ,  0.  , -0.04, -0.02,  0.  ,  0.88, -0.06,  0.  ],\n",
              "       [ 0.  ,  0.  ,  0.  ,  0.  , -0.01, -0.03,  0.  ,  0.97, -0.09],\n",
              "       [ 0.  ,  0.  ,  0.  ,  0.  , -0.01, -0.03,  0.  , -0.03,  0.91]])"
            ]
          },
          "metadata": {},
          "execution_count": 56
        }
      ]
    },
    {
      "cell_type": "code",
      "metadata": {
        "id": "mBPKdxlDGRCr",
        "colab": {
          "base_uri": "https://localhost:8080/"
        },
        "outputId": "9892d4a2-2179-4939-e350-cb49dcdc6472"
      },
      "source": [
        "B = np.eye(36)-np.kron(A,A)   # I_{kp}`2 - kron(A,A)\n",
        "B.shape"
      ],
      "execution_count": 57,
      "outputs": [
        {
          "output_type": "execute_result",
          "data": {
            "text/plain": [
              "(36, 36)"
            ]
          },
          "metadata": {},
          "execution_count": 57
        }
      ]
    },
    {
      "cell_type": "code",
      "metadata": {
        "id": "Pa1BOOeLFaPi"
      },
      "source": [
        "#np.dot(np.linalg.inv(B),SigmaU.reshape(36,1)).reshape(1,36)"
      ],
      "execution_count": 58,
      "outputs": []
    },
    {
      "cell_type": "code",
      "metadata": {
        "id": "kJAHo4iROlb0"
      },
      "source": [
        "Gamma = np.dot(np.linalg.inv(B),SigmaU.reshape(36,1)).reshape(6,6)\n",
        "Gamma0 = np.dot(np.linalg.inv(B),SigmaU.reshape(36,1)).reshape(6,6)[:3,:3]\n",
        "Gamma1 = np.dot(np.linalg.inv(B),SigmaU.reshape(36,1)).reshape(6,6)[:3,3:6]\n",
        "Gamma2 = np.dot(A1,Gamma1)+np.dot(A2,Gamma0)\n",
        "Gamma3 = np.dot(A1,Gamma2)+np.dot(A2,Gamma1)"
      ],
      "execution_count": 59,
      "outputs": []
    },
    {
      "cell_type": "code",
      "metadata": {
        "id": "6VQx_1K4aE60",
        "colab": {
          "base_uri": "https://localhost:8080/"
        },
        "outputId": "c7f24e46-5231-480f-d726-5037109ccdb3"
      },
      "source": [
        "print(\"Gamma = \\n{0}\".format(Gamma))\n",
        "print(\"Gamma0 = \\n{0}\".format(Gamma0))\n",
        "print(\"Gamma1 = \\n{0}\".format(Gamma1))\n",
        "print(\"Gamma2 = \\n{0}\".format(Gamma2))\n",
        "print(\"Gamma3 = \\n{0}\".format(Gamma3))"
      ],
      "execution_count": 60,
      "outputs": [
        {
          "output_type": "stream",
          "name": "stdout",
          "text": [
            "Gamma = \n",
            "[[0.44718166 0.19139482 0.55695933 0.27680553 0.18059136 0.38479294]\n",
            " [0.19139482 0.84373443 1.64527596 0.18879229 0.76271303 1.84420362]\n",
            " [0.55695933 1.64527596 5.48399604 0.84803095 1.48847611 4.88846023]\n",
            " [0.27680553 0.18879229 0.84803095 0.44718166 0.19139482 0.55695933]\n",
            " [0.18059136 0.76271303 1.48847611 0.19139482 0.84373443 1.64527596]\n",
            " [0.38479294 1.84420362 4.88846023 0.55695933 1.64527596 5.48399604]]\n",
            "Gamma0 = \n",
            "[[0.44718166 0.19139482 0.55695933]\n",
            " [0.19139482 0.84373443 1.64527596]\n",
            " [0.55695933 1.64527596 5.48399604]]\n",
            "Gamma1 = \n",
            "[[0.27680553 0.18059136 0.38479294]\n",
            " [0.18879229 0.76271303 1.84420362]\n",
            " [0.84803095 1.48847611 4.88846023]]\n",
            "Gamma2 = \n",
            "[[0.12320677 0.16440629 0.34238355]\n",
            " [0.23515543 0.70283386 1.93945467]\n",
            " [0.92754974 1.35331311 4.25708183]]\n",
            "Gamma3 = \n",
            "[[0.05439918 0.14924952 0.35665537]\n",
            " [0.29049947 0.64158377 1.87475644]\n",
            " [0.85292589 1.23061615 3.71381066]]\n"
          ]
        }
      ]
    },
    {
      "cell_type": "code",
      "metadata": {
        "id": "LiXvjvYsppO3"
      },
      "source": [
        "D = np.diagflat([np.sqrt(Gamma0[0,0]),np.sqrt(Gamma0[1,1]),np.sqrt(Gamma0[2,2])])\n",
        "Dinv = np.linalg.inv(D)\n",
        "R0 = np.dot(np.dot(Dinv,Gamma0),Dinv)\n",
        "R1 = np.dot(np.dot(Dinv,Gamma1),Dinv)\n",
        "R2 = np.dot(np.dot(Dinv,Gamma2),Dinv)\n",
        "R3 = np.dot(np.dot(Dinv,Gamma3),Dinv)"
      ],
      "execution_count": 61,
      "outputs": []
    },
    {
      "cell_type": "code",
      "metadata": {
        "id": "2bPAIqAvr0HA",
        "colab": {
          "base_uri": "https://localhost:8080/"
        },
        "outputId": "07de6f43-e32b-4759-ee1a-1a3103613be0"
      },
      "source": [
        "print(\"D = \\n{0}\".format(D))\n",
        "print(\"R0 = \\n{0}\".format(R0))\n",
        "print(\"R1 = \\n{0}\".format(R1))\n",
        "print(\"R2 = \\n{0}\".format(R2))\n",
        "print(\"R3 = \\n{0}\".format(R3))"
      ],
      "execution_count": 62,
      "outputs": [
        {
          "output_type": "stream",
          "name": "stdout",
          "text": [
            "D = \n",
            "[[0.66871642 0.         0.        ]\n",
            " [0.         0.91855018 0.        ]\n",
            " [0.         0.         2.34179334]]\n",
            "R0 = \n",
            "[[1.         0.31159129 0.35565828]\n",
            " [0.31159129 1.         0.76486942]\n",
            " [0.35565828 0.76486942 1.        ]]\n",
            "R1 = \n",
            "[[0.6190002  0.29400322 0.24571775]\n",
            " [0.30735436 0.90397287 0.85734855]\n",
            " [0.54152829 0.69197502 0.89140477]]\n",
            "R2 = \n",
            "[[0.27551839 0.26765389 0.21863633]\n",
            " [0.38283367 0.83300365 0.90162964]\n",
            " [0.59230671 0.62913933 0.77627369]]\n",
            "R3 = \n",
            "[[0.12164894 0.24297862 0.22774991]\n",
            " [0.47293393 0.76040961 0.8715522 ]\n",
            " [0.54465405 0.57209896 0.67720885]]\n"
          ]
        }
      ]
    },
    {
      "cell_type": "code",
      "metadata": {
        "id": "O2D0vnyfs8XH"
      },
      "source": [
        "import pandas as pd\n",
        "import altair as alt"
      ],
      "execution_count": 63,
      "outputs": []
    },
    {
      "cell_type": "code",
      "metadata": {
        "id": "N75xd6Im5MAy",
        "colab": {
          "base_uri": "https://localhost:8080/",
          "height": 175
        },
        "outputId": "6e034c90-43f4-4f77-c1f8-e71df0992a87"
      },
      "source": [
        "H = np.transpose(np.array([[0,1,2,3]]))\n",
        "df = (pd.DataFrame(\n",
        "    np.block([H,np.block([[R0.reshape(1,9)],[R1.reshape(1,9)],[R2.reshape(1,9)],[R3.reshape(1,9)]])]),\n",
        "    columns = [\"h\",\"R11\",\"R12\",\"R13\",\"R21\",\"R22\",\"R23\",\"R31\",\"R32\",\"R33\"]))\n",
        "\n",
        "df"
      ],
      "execution_count": 64,
      "outputs": [
        {
          "output_type": "execute_result",
          "data": {
            "text/plain": [
              "     h       R11       R12       R13       R21       R22       R23       R31  \\\n",
              "0  0.0  1.000000  0.311591  0.355658  0.311591  1.000000  0.764869  0.355658   \n",
              "1  1.0  0.619000  0.294003  0.245718  0.307354  0.903973  0.857349  0.541528   \n",
              "2  2.0  0.275518  0.267654  0.218636  0.382834  0.833004  0.901630  0.592307   \n",
              "3  3.0  0.121649  0.242979  0.227750  0.472934  0.760410  0.871552  0.544654   \n",
              "\n",
              "        R32       R33  \n",
              "0  0.764869  1.000000  \n",
              "1  0.691975  0.891405  \n",
              "2  0.629139  0.776274  \n",
              "3  0.572099  0.677209  "
            ],
            "text/html": [
              "\n",
              "  <div id=\"df-a438b06c-e035-41c4-b99d-bd466a842082\">\n",
              "    <div class=\"colab-df-container\">\n",
              "      <div>\n",
              "<style scoped>\n",
              "    .dataframe tbody tr th:only-of-type {\n",
              "        vertical-align: middle;\n",
              "    }\n",
              "\n",
              "    .dataframe tbody tr th {\n",
              "        vertical-align: top;\n",
              "    }\n",
              "\n",
              "    .dataframe thead th {\n",
              "        text-align: right;\n",
              "    }\n",
              "</style>\n",
              "<table border=\"1\" class=\"dataframe\">\n",
              "  <thead>\n",
              "    <tr style=\"text-align: right;\">\n",
              "      <th></th>\n",
              "      <th>h</th>\n",
              "      <th>R11</th>\n",
              "      <th>R12</th>\n",
              "      <th>R13</th>\n",
              "      <th>R21</th>\n",
              "      <th>R22</th>\n",
              "      <th>R23</th>\n",
              "      <th>R31</th>\n",
              "      <th>R32</th>\n",
              "      <th>R33</th>\n",
              "    </tr>\n",
              "  </thead>\n",
              "  <tbody>\n",
              "    <tr>\n",
              "      <th>0</th>\n",
              "      <td>0.0</td>\n",
              "      <td>1.000000</td>\n",
              "      <td>0.311591</td>\n",
              "      <td>0.355658</td>\n",
              "      <td>0.311591</td>\n",
              "      <td>1.000000</td>\n",
              "      <td>0.764869</td>\n",
              "      <td>0.355658</td>\n",
              "      <td>0.764869</td>\n",
              "      <td>1.000000</td>\n",
              "    </tr>\n",
              "    <tr>\n",
              "      <th>1</th>\n",
              "      <td>1.0</td>\n",
              "      <td>0.619000</td>\n",
              "      <td>0.294003</td>\n",
              "      <td>0.245718</td>\n",
              "      <td>0.307354</td>\n",
              "      <td>0.903973</td>\n",
              "      <td>0.857349</td>\n",
              "      <td>0.541528</td>\n",
              "      <td>0.691975</td>\n",
              "      <td>0.891405</td>\n",
              "    </tr>\n",
              "    <tr>\n",
              "      <th>2</th>\n",
              "      <td>2.0</td>\n",
              "      <td>0.275518</td>\n",
              "      <td>0.267654</td>\n",
              "      <td>0.218636</td>\n",
              "      <td>0.382834</td>\n",
              "      <td>0.833004</td>\n",
              "      <td>0.901630</td>\n",
              "      <td>0.592307</td>\n",
              "      <td>0.629139</td>\n",
              "      <td>0.776274</td>\n",
              "    </tr>\n",
              "    <tr>\n",
              "      <th>3</th>\n",
              "      <td>3.0</td>\n",
              "      <td>0.121649</td>\n",
              "      <td>0.242979</td>\n",
              "      <td>0.227750</td>\n",
              "      <td>0.472934</td>\n",
              "      <td>0.760410</td>\n",
              "      <td>0.871552</td>\n",
              "      <td>0.544654</td>\n",
              "      <td>0.572099</td>\n",
              "      <td>0.677209</td>\n",
              "    </tr>\n",
              "  </tbody>\n",
              "</table>\n",
              "</div>\n",
              "      <button class=\"colab-df-convert\" onclick=\"convertToInteractive('df-a438b06c-e035-41c4-b99d-bd466a842082')\"\n",
              "              title=\"Convert this dataframe to an interactive table.\"\n",
              "              style=\"display:none;\">\n",
              "        \n",
              "  <svg xmlns=\"http://www.w3.org/2000/svg\" height=\"24px\"viewBox=\"0 0 24 24\"\n",
              "       width=\"24px\">\n",
              "    <path d=\"M0 0h24v24H0V0z\" fill=\"none\"/>\n",
              "    <path d=\"M18.56 5.44l.94 2.06.94-2.06 2.06-.94-2.06-.94-.94-2.06-.94 2.06-2.06.94zm-11 1L8.5 8.5l.94-2.06 2.06-.94-2.06-.94L8.5 2.5l-.94 2.06-2.06.94zm10 10l.94 2.06.94-2.06 2.06-.94-2.06-.94-.94-2.06-.94 2.06-2.06.94z\"/><path d=\"M17.41 7.96l-1.37-1.37c-.4-.4-.92-.59-1.43-.59-.52 0-1.04.2-1.43.59L10.3 9.45l-7.72 7.72c-.78.78-.78 2.05 0 2.83L4 21.41c.39.39.9.59 1.41.59.51 0 1.02-.2 1.41-.59l7.78-7.78 2.81-2.81c.8-.78.8-2.07 0-2.86zM5.41 20L4 18.59l7.72-7.72 1.47 1.35L5.41 20z\"/>\n",
              "  </svg>\n",
              "      </button>\n",
              "      \n",
              "  <style>\n",
              "    .colab-df-container {\n",
              "      display:flex;\n",
              "      flex-wrap:wrap;\n",
              "      gap: 12px;\n",
              "    }\n",
              "\n",
              "    .colab-df-convert {\n",
              "      background-color: #E8F0FE;\n",
              "      border: none;\n",
              "      border-radius: 50%;\n",
              "      cursor: pointer;\n",
              "      display: none;\n",
              "      fill: #1967D2;\n",
              "      height: 32px;\n",
              "      padding: 0 0 0 0;\n",
              "      width: 32px;\n",
              "    }\n",
              "\n",
              "    .colab-df-convert:hover {\n",
              "      background-color: #E2EBFA;\n",
              "      box-shadow: 0px 1px 2px rgba(60, 64, 67, 0.3), 0px 1px 3px 1px rgba(60, 64, 67, 0.15);\n",
              "      fill: #174EA6;\n",
              "    }\n",
              "\n",
              "    [theme=dark] .colab-df-convert {\n",
              "      background-color: #3B4455;\n",
              "      fill: #D2E3FC;\n",
              "    }\n",
              "\n",
              "    [theme=dark] .colab-df-convert:hover {\n",
              "      background-color: #434B5C;\n",
              "      box-shadow: 0px 1px 3px 1px rgba(0, 0, 0, 0.15);\n",
              "      filter: drop-shadow(0px 1px 2px rgba(0, 0, 0, 0.3));\n",
              "      fill: #FFFFFF;\n",
              "    }\n",
              "  </style>\n",
              "\n",
              "      <script>\n",
              "        const buttonEl =\n",
              "          document.querySelector('#df-a438b06c-e035-41c4-b99d-bd466a842082 button.colab-df-convert');\n",
              "        buttonEl.style.display =\n",
              "          google.colab.kernel.accessAllowed ? 'block' : 'none';\n",
              "\n",
              "        async function convertToInteractive(key) {\n",
              "          const element = document.querySelector('#df-a438b06c-e035-41c4-b99d-bd466a842082');\n",
              "          const dataTable =\n",
              "            await google.colab.kernel.invokeFunction('convertToInteractive',\n",
              "                                                     [key], {});\n",
              "          if (!dataTable) return;\n",
              "\n",
              "          const docLinkHtml = 'Like what you see? Visit the ' +\n",
              "            '<a target=\"_blank\" href=https://colab.research.google.com/notebooks/data_table.ipynb>data table notebook</a>'\n",
              "            + ' to learn more about interactive tables.';\n",
              "          element.innerHTML = '';\n",
              "          dataTable['output_type'] = 'display_data';\n",
              "          await google.colab.output.renderOutput(dataTable, element);\n",
              "          const docLink = document.createElement('div');\n",
              "          docLink.innerHTML = docLinkHtml;\n",
              "          element.appendChild(docLink);\n",
              "        }\n",
              "      </script>\n",
              "    </div>\n",
              "  </div>\n",
              "  "
            ]
          },
          "metadata": {},
          "execution_count": 64
        }
      ]
    },
    {
      "cell_type": "code",
      "metadata": {
        "id": "hERnRl-o7naB"
      },
      "source": [
        "###-----------------------------------GRAFICOS DE R(h)------------------------------------------- ###"
      ],
      "execution_count": 65,
      "outputs": []
    },
    {
      "cell_type": "code",
      "metadata": {
        "id": "xae9SFzks_aR",
        "colab": {
          "base_uri": "https://localhost:8080/",
          "height": 404
        },
        "outputId": "f42a0121-f223-461b-cd14-07a2a2b32435"
      },
      "source": [
        "baseh = alt.Chart(df).mark_line(point=True).encode(\n",
        "    alt.X(\"h:O\")\n",
        ")\n",
        "R11plot = baseh.encode(\n",
        "    alt.Y(\"R11:Q\")    \n",
        ").properties(title=\"Componente R11(h) \")\n",
        "\n",
        "R12plot = baseh.encode(\n",
        "    alt.Y(\"R12:Q\")    \n",
        ").properties(title=\"Componente R12(h) \")\n",
        "\n",
        "R13plot = baseh.encode(\n",
        "    alt.Y(\"R13:Q\")    \n",
        ").properties(title=\"Componente R13(h) \")\n",
        "\n",
        "R21plot = baseh.encode(\n",
        "    alt.Y(\"R21:Q\")    \n",
        ").properties(title=\"Componente R21(h) \")\n",
        "\n",
        "R22plot = baseh.encode(\n",
        "    alt.Y(\"R22:Q\")    \n",
        ").properties(title=\"Componente R22(h) \")\n",
        "\n",
        "R23plot = baseh.encode(\n",
        "    alt.Y(\"R23:Q\")    \n",
        ").properties(title=\"Componente R23(h) \")\n",
        "\n",
        "R31plot = baseh.encode(\n",
        "    alt.Y(\"R31:Q\")    \n",
        ").properties(title=\"Componente R31(h) \")\n",
        "\n",
        "R32plot = baseh.encode(\n",
        "    alt.Y(\"R32:Q\")    \n",
        ").properties(title=\"Componente R32(h) \")\n",
        "\n",
        "R33plot = baseh.encode(\n",
        "    alt.Y(\"R33:Q\")    \n",
        ").properties(title=\"Componente R33(h) \")\n",
        "\n",
        "R11plot|R12plot|R13plot|R21plot|R22plot|R23plot|R31plot|R32plot|R33plot"
      ],
      "execution_count": 66,
      "outputs": [
        {
          "output_type": "execute_result",
          "data": {
            "text/html": [
              "\n",
              "<div id=\"altair-viz-dfe2956bdc4642b4a7a53c3de020b8e9\"></div>\n",
              "<script type=\"text/javascript\">\n",
              "  var VEGA_DEBUG = (typeof VEGA_DEBUG == \"undefined\") ? {} : VEGA_DEBUG;\n",
              "  (function(spec, embedOpt){\n",
              "    let outputDiv = document.currentScript.previousElementSibling;\n",
              "    if (outputDiv.id !== \"altair-viz-dfe2956bdc4642b4a7a53c3de020b8e9\") {\n",
              "      outputDiv = document.getElementById(\"altair-viz-dfe2956bdc4642b4a7a53c3de020b8e9\");\n",
              "    }\n",
              "    const paths = {\n",
              "      \"vega\": \"https://cdn.jsdelivr.net/npm//vega@5?noext\",\n",
              "      \"vega-lib\": \"https://cdn.jsdelivr.net/npm//vega-lib?noext\",\n",
              "      \"vega-lite\": \"https://cdn.jsdelivr.net/npm//vega-lite@4.17.0?noext\",\n",
              "      \"vega-embed\": \"https://cdn.jsdelivr.net/npm//vega-embed@6?noext\",\n",
              "    };\n",
              "\n",
              "    function maybeLoadScript(lib, version) {\n",
              "      var key = `${lib.replace(\"-\", \"\")}_version`;\n",
              "      return (VEGA_DEBUG[key] == version) ?\n",
              "        Promise.resolve(paths[lib]) :\n",
              "        new Promise(function(resolve, reject) {\n",
              "          var s = document.createElement('script');\n",
              "          document.getElementsByTagName(\"head\")[0].appendChild(s);\n",
              "          s.async = true;\n",
              "          s.onload = () => {\n",
              "            VEGA_DEBUG[key] = version;\n",
              "            return resolve(paths[lib]);\n",
              "          };\n",
              "          s.onerror = () => reject(`Error loading script: ${paths[lib]}`);\n",
              "          s.src = paths[lib];\n",
              "        });\n",
              "    }\n",
              "\n",
              "    function showError(err) {\n",
              "      outputDiv.innerHTML = `<div class=\"error\" style=\"color:red;\">${err}</div>`;\n",
              "      throw err;\n",
              "    }\n",
              "\n",
              "    function displayChart(vegaEmbed) {\n",
              "      vegaEmbed(outputDiv, spec, embedOpt)\n",
              "        .catch(err => showError(`Javascript Error: ${err.message}<br>This usually means there's a typo in your chart specification. See the javascript console for the full traceback.`));\n",
              "    }\n",
              "\n",
              "    if(typeof define === \"function\" && define.amd) {\n",
              "      requirejs.config({paths});\n",
              "      require([\"vega-embed\"], displayChart, err => showError(`Error loading script: ${err.message}`));\n",
              "    } else {\n",
              "      maybeLoadScript(\"vega\", \"5\")\n",
              "        .then(() => maybeLoadScript(\"vega-lite\", \"4.17.0\"))\n",
              "        .then(() => maybeLoadScript(\"vega-embed\", \"6\"))\n",
              "        .catch(showError)\n",
              "        .then(() => displayChart(vegaEmbed));\n",
              "    }\n",
              "  })({\"config\": {\"view\": {\"continuousWidth\": 400, \"continuousHeight\": 300}}, \"hconcat\": [{\"mark\": {\"type\": \"line\", \"point\": true}, \"encoding\": {\"x\": {\"field\": \"h\", \"type\": \"ordinal\"}, \"y\": {\"field\": \"R11\", \"type\": \"quantitative\"}}, \"title\": \"Componente R11(h) \"}, {\"mark\": {\"type\": \"line\", \"point\": true}, \"encoding\": {\"x\": {\"field\": \"h\", \"type\": \"ordinal\"}, \"y\": {\"field\": \"R12\", \"type\": \"quantitative\"}}, \"title\": \"Componente R12(h) \"}, {\"mark\": {\"type\": \"line\", \"point\": true}, \"encoding\": {\"x\": {\"field\": \"h\", \"type\": \"ordinal\"}, \"y\": {\"field\": \"R13\", \"type\": \"quantitative\"}}, \"title\": \"Componente R13(h) \"}, {\"mark\": {\"type\": \"line\", \"point\": true}, \"encoding\": {\"x\": {\"field\": \"h\", \"type\": \"ordinal\"}, \"y\": {\"field\": \"R21\", \"type\": \"quantitative\"}}, \"title\": \"Componente R21(h) \"}, {\"mark\": {\"type\": \"line\", \"point\": true}, \"encoding\": {\"x\": {\"field\": \"h\", \"type\": \"ordinal\"}, \"y\": {\"field\": \"R22\", \"type\": \"quantitative\"}}, \"title\": \"Componente R22(h) \"}, {\"mark\": {\"type\": \"line\", \"point\": true}, \"encoding\": {\"x\": {\"field\": \"h\", \"type\": \"ordinal\"}, \"y\": {\"field\": \"R23\", \"type\": \"quantitative\"}}, \"title\": \"Componente R23(h) \"}, {\"mark\": {\"type\": \"line\", \"point\": true}, \"encoding\": {\"x\": {\"field\": \"h\", \"type\": \"ordinal\"}, \"y\": {\"field\": \"R31\", \"type\": \"quantitative\"}}, \"title\": \"Componente R31(h) \"}, {\"mark\": {\"type\": \"line\", \"point\": true}, \"encoding\": {\"x\": {\"field\": \"h\", \"type\": \"ordinal\"}, \"y\": {\"field\": \"R32\", \"type\": \"quantitative\"}}, \"title\": \"Componente R32(h) \"}, {\"mark\": {\"type\": \"line\", \"point\": true}, \"encoding\": {\"x\": {\"field\": \"h\", \"type\": \"ordinal\"}, \"y\": {\"field\": \"R33\", \"type\": \"quantitative\"}}, \"title\": \"Componente R33(h) \"}], \"data\": {\"name\": \"data-d67b2cd0893433f44468be3f06f2f248\"}, \"$schema\": \"https://vega.github.io/schema/vega-lite/v4.17.0.json\", \"datasets\": {\"data-d67b2cd0893433f44468be3f06f2f248\": [{\"h\": 0.0, \"R11\": 0.9999999999999999, \"R12\": 0.31159128945109243, \"R13\": 0.3556582825999363, \"R21\": 0.3115912894510923, \"R22\": 1.0, \"R23\": 0.7648694238895535, \"R31\": 0.3556582825999361, \"R32\": 0.7648694238895537, \"R33\": 1.0}, {\"h\": 1.0, \"R11\": 0.6190001999950667, \"R12\": 0.2940032241647581, \"R13\": 0.24571775261085094, \"R21\": 0.3073543626781491, \"R22\": 0.9039728697884911, \"R23\": 0.8573485521154766, \"R31\": 0.5415282886198373, \"R32\": 0.6919750185335213, \"R33\": 0.8914047699242651}, {\"h\": 2.0, \"R11\": 0.2755183949067729, \"R12\": 0.26765388786649325, \"R13\": 0.21863633382436104, \"R21\": 0.3828336735350764, \"R22\": 0.8330036546279287, \"R23\": 0.9016296439414492, \"R31\": 0.5923067114071253, \"R32\": 0.6291393322292474, \"R33\": 0.7762736868759658}, {\"h\": 3.0, \"R11\": 0.12164894413463508, \"R12\": 0.2429786203464864, \"R13\": 0.2277499060391297, \"R21\": 0.4729339252305298, \"R22\": 0.7604096125096618, \"R23\": 0.8715521960413475, \"R31\": 0.5446540546770624, \"R32\": 0.5720989599503516, \"R33\": 0.6772088507852595}]}}, {\"mode\": \"vega-lite\"});\n",
              "</script>"
            ],
            "text/plain": [
              "alt.HConcatChart(...)"
            ]
          },
          "metadata": {},
          "execution_count": 66
        }
      ]
    },
    {
      "cell_type": "markdown",
      "metadata": {
        "id": "obPRWiM3eV4F"
      },
      "source": [
        "Pregunta 2"
      ]
    },
    {
      "cell_type": "markdown",
      "metadata": {
        "id": "bYdaCJ8aB79R"
      },
      "source": [
        "a)"
      ]
    },
    {
      "cell_type": "code",
      "metadata": {
        "id": "oPdt0keReZCB"
      },
      "source": [
        "y1999 = np.transpose(np.array([[1,1.5,3]]))\n",
        "y2000 = np.transpose(np.array([[0.7,1,1.5]]))\n"
      ],
      "execution_count": 67,
      "outputs": []
    },
    {
      "cell_type": "code",
      "metadata": {
        "id": "1TP230jruE1K"
      },
      "source": [
        "Mu = np.dot(np.linalg.inv(I-A),V)\n",
        "J = np.block([np.eye(3),np.zeros((3,3))])\n",
        "media = np.dot(J,Mu)"
      ],
      "execution_count": 68,
      "outputs": []
    },
    {
      "cell_type": "code",
      "metadata": {
        "id": "ioVi2Eyzvs38",
        "colab": {
          "base_uri": "https://localhost:8080/"
        },
        "outputId": "dc353e5d-45ca-4be0-a311-0c6463fe2d6f"
      },
      "source": [
        "z1999 = y1999-media\n",
        "z2000 = y2000-media\n",
        "print(z1999)\n",
        "print(z2000)"
      ],
      "execution_count": 69,
      "outputs": [
        {
          "output_type": "stream",
          "name": "stdout",
          "text": [
            "[[ -5.875 ]\n",
            " [-12.875 ]\n",
            " [-27.9375]]\n",
            "[[ -6.175 ]\n",
            " [-13.375 ]\n",
            " [-29.4375]]\n"
          ]
        }
      ]
    },
    {
      "cell_type": "code",
      "metadata": {
        "id": "gHTECwCpv9vS"
      },
      "source": [
        "z2001 = np.dot(A1,z2000)+np.dot(A2,z1999)\n",
        "z2002 = np.dot(A1,z2001)+np.dot(A2,z2000)\n",
        "z2003 = np.dot(A1,z2002)+np.dot(A2,z2001)\n",
        "y2001 = z2001 + media\n",
        "y2002 = z2002 + media\n",
        "y2003 = z2003 + media"
      ],
      "execution_count": 70,
      "outputs": []
    },
    {
      "cell_type": "code",
      "metadata": {
        "id": "FJVbYd8gwTjq",
        "colab": {
          "base_uri": "https://localhost:8080/"
        },
        "outputId": "3373d808-adac-4b19-feb0-8cfea87edd1b"
      },
      "source": [
        "print(\"y2001 = \\n {0}\\n y2002 = \\n {1}\\n y2003 = \\n {2}\".format(y2001,y2002,y2003))"
      ],
      "execution_count": 71,
      "outputs": [
        {
          "output_type": "stream",
          "name": "stdout",
          "text": [
            "y2001 = \n",
            " [[2.39]\n",
            " [2.  ]\n",
            " [1.83]]\n",
            " y2002 = \n",
            " [[3.733]\n",
            " [2.233]\n",
            " [3.615]]\n",
            " y2003 = \n",
            " [[4.3584]\n",
            " [2.6377]\n",
            " [6.2517]]\n"
          ]
        }
      ]
    },
    {
      "cell_type": "markdown",
      "metadata": {
        "id": "ZWk4RWLHB-8a"
      },
      "source": [
        "b)"
      ]
    },
    {
      "cell_type": "code",
      "metadata": {
        "id": "hzunO60FB_gp"
      },
      "source": [
        "#Calcula la potencia de una matriz\n",
        "def powerarray(array,n):\n",
        "  (a,b) = array.shape\n",
        "  if a != b:\n",
        "    print(\"Array is not square\")\n",
        "    return None\n",
        "  else:\n",
        "    if n==0:\n",
        "      return np.eye(a)\n",
        "    elif n==1:\n",
        "      return array\n",
        "    else:\n",
        "      var = np.dot(array,powerarray(array,n-1))\n",
        "      return var"
      ],
      "execution_count": 72,
      "outputs": []
    },
    {
      "cell_type": "code",
      "metadata": {
        "id": "VmBVkVb5FyAu"
      },
      "source": [
        "phi = list();\n",
        "N = 5\n",
        "for n in range(N+1):\n",
        "  (phi.append(\n",
        "      np.dot(np.dot(J,powerarray(A,n)),np.transpose(J))\n",
        "  )\n",
        "  )"
      ],
      "execution_count": 73,
      "outputs": []
    },
    {
      "cell_type": "code",
      "metadata": {
        "id": "ChlZswZ6x6ls",
        "colab": {
          "base_uri": "https://localhost:8080/"
        },
        "outputId": "b73bca90-df65-4bb4-ea90-62171199a0b8"
      },
      "source": [
        "sum([np.array([[1,2],[3,4]]),np.array([[1,5],[3,4]])])"
      ],
      "execution_count": 74,
      "outputs": [
        {
          "output_type": "execute_result",
          "data": {
            "text/plain": [
              "array([[2, 7],\n",
              "       [6, 8]])"
            ]
          },
          "metadata": {},
          "execution_count": 74
        }
      ]
    },
    {
      "cell_type": "code",
      "metadata": {
        "id": "Q4MI3pc-ddA4",
        "colab": {
          "base_uri": "https://localhost:8080/"
        },
        "outputId": "849c8164-2964-4603-938a-7c7b9ec5ac43"
      },
      "source": [
        "Sigmay = list();\n",
        "for h in range(1,4):\n",
        "  suma = list()\n",
        "  for i in range(h):\n",
        "    (suma.append(\n",
        "        np.dot(np.dot(phi[i],Sigmau),np.transpose(phi[i])\n",
        "    ))\n",
        "    )\n",
        "  Sigmay.append(sum(suma))\n",
        "  print(\"Sigmay({0}) = \\n {1} \\n\".format(h,Sigmay[h-1]))"
      ],
      "execution_count": 75,
      "outputs": [
        {
          "output_type": "stream",
          "name": "stdout",
          "text": [
            "Sigmay(1) = \n",
            " [[0.26 0.03 0.  ]\n",
            " [0.03 0.09 0.  ]\n",
            " [0.   0.   0.81]] \n",
            "\n",
            "Sigmay(2) = \n",
            " [[0.3925 0.042  0.1665]\n",
            " [0.042  0.1125 0.0756]\n",
            " [0.1665 0.0756 1.539 ]] \n",
            "\n",
            "Sigmay(3) = \n",
            " [[0.41745  0.055701 0.279603]\n",
            " [0.055701 0.161298 0.234117]\n",
            " [0.279603 0.234117 2.352645]] \n",
            "\n"
          ]
        }
      ]
    },
    {
      "cell_type": "code",
      "metadata": {
        "id": "cnkc4QwelGf_"
      },
      "source": [],
      "execution_count": 75,
      "outputs": []
    },
    {
      "cell_type": "markdown",
      "metadata": {
        "id": "6tzBL__tgL3W"
      },
      "source": [
        "c)\n"
      ]
    },
    {
      "cell_type": "code",
      "metadata": {
        "id": "1jKLmIukgM4U",
        "colab": {
          "base_uri": "https://localhost:8080/"
        },
        "outputId": "5e0a7996-b0eb-42b3-b461-21ab7d877579"
      },
      "source": [
        "ylist = [y2001,y2002,y2003]\n",
        "confianza = [0.90,0.95]\n",
        "Intervalos = dict()\n",
        "for alpha in confianza:\n",
        "  zaph = scipy.stats.norm.ppf(1-alpha/2)\n",
        "  for h in range(3):\n",
        "    for k in range(3):\n",
        "      key = \"y200{0}_{1} conf = {2}%\".format(h+1,k+1,100*alpha,)\n",
        "      LI = round(ylist[h][k,0] - zaph*np.sqrt(Sigmay[h][k,k]),4)\n",
        "      LS = round(ylist[h][k,0] + zaph*np.sqrt(Sigmay[h][k,k]),4)\n",
        "      Intervalos[key] = (LI,LS)\n",
        "\n",
        "Intervalos"
      ],
      "execution_count": 76,
      "outputs": [
        {
          "output_type": "execute_result",
          "data": {
            "text/plain": [
              "{'y2001_1 conf = 90.0%': (2.3259, 2.4541),\n",
              " 'y2001_2 conf = 90.0%': (1.9623, 2.0377),\n",
              " 'y2001_3 conf = 90.0%': (1.7169, 1.9431),\n",
              " 'y2002_1 conf = 90.0%': (3.6543, 3.8117),\n",
              " 'y2002_2 conf = 90.0%': (2.1909, 2.2751),\n",
              " 'y2002_3 conf = 90.0%': (3.4591, 3.7709),\n",
              " 'y2003_1 conf = 90.0%': (4.2772, 4.4396),\n",
              " 'y2003_2 conf = 90.0%': (2.5872, 2.6882),\n",
              " 'y2003_3 conf = 90.0%': (6.059, 6.4444),\n",
              " 'y2001_1 conf = 95.0%': (2.358, 2.422),\n",
              " 'y2001_2 conf = 95.0%': (1.9812, 2.0188),\n",
              " 'y2001_3 conf = 95.0%': (1.7736, 1.8864),\n",
              " 'y2002_1 conf = 95.0%': (3.6937, 3.7723),\n",
              " 'y2002_2 conf = 95.0%': (2.212, 2.254),\n",
              " 'y2002_3 conf = 95.0%': (3.5372, 3.6928),\n",
              " 'y2003_1 conf = 95.0%': (4.3179, 4.3989),\n",
              " 'y2003_2 conf = 95.0%': (2.6125, 2.6629),\n",
              " 'y2003_3 conf = 95.0%': (6.1555, 6.3479)}"
            ]
          },
          "metadata": {},
          "execution_count": 76
        }
      ]
    },
    {
      "cell_type": "markdown",
      "metadata": {
        "id": "ScpGlpE8q09Y"
      },
      "source": [
        "d)"
      ]
    },
    {
      "cell_type": "code",
      "metadata": {
        "id": "botAcjxyq1oJ",
        "colab": {
          "base_uri": "https://localhost:8080/"
        },
        "outputId": "08b2da62-5bc1-430c-c005-05f938ef3254"
      },
      "source": [
        "ylist = [y2001,y2002,y2003]\n",
        "confianza = [0.99]\n",
        "Intervalos = dict()\n",
        "for alpha in confianza:\n",
        "  zaph = scipy.stats.norm.ppf(1-alpha/2)\n",
        "  for h in range(3):\n",
        "    key = \"GNP_200{0} conf = {1}%\".format(h+1,100*alpha,)\n",
        "    LI = round(ylist[h][0,0] - zaph*np.sqrt(Sigmay[h][0,0]),4)\n",
        "    LS = round(ylist[h][0,0] + zaph*np.sqrt(Sigmay[h][0,0]),4)\n",
        "    Intervalos[key] = (LI,LS)\n",
        "\n",
        "Intervalos\n"
      ],
      "execution_count": 77,
      "outputs": [
        {
          "output_type": "execute_result",
          "data": {
            "text/plain": [
              "{'GNP_2001 conf = 99.0%': (2.3836, 2.3964),\n",
              " 'GNP_2002 conf = 99.0%': (3.7251, 3.7409),\n",
              " 'GNP_2003 conf = 99.0%': (4.3503, 4.3665)}"
            ]
          },
          "metadata": {},
          "execution_count": 77
        }
      ]
    },
    {
      "cell_type": "code",
      "source": [],
      "metadata": {
        "id": "tUBg7bB12s9s"
      },
      "execution_count": null,
      "outputs": []
    }
  ]
}